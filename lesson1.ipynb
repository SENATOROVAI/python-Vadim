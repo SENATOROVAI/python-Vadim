{
 "cells": [
  {
   "cell_type": "code",
   "execution_count": null,
   "metadata": {},
   "outputs": [],
   "source": [
    "print(\"Hello world!\")"
   ]
  },
  {
   "cell_type": "markdown",
   "metadata": {},
   "source": [
    "fork - это операция клонирования любого репози тория в свой личный аккаунт github, позволяющая выполнить пулл реквест. \n",
    "Пулреквест - это операция переноса изменений из личного репозитория в форктнутый репозиторий, пуллреквест возможет только при наличии изменений.\n",
    "Комит - это процедура сохранения изменений.\n",
    "Гитпул - это операция принятия изменений с репозитория.\n",
    "Линтер - это инструмент анализа и поиска ошибок, согласно PEP8\n",
    "flake8 - это линтер \n",
    "Black(Shift + alt + F) - это инструмент автоформатирования кода по линтеру.\n"
   ]
  },
  {
   "cell_type": "code",
   "execution_count": null,
   "metadata": {},
   "outputs": [],
   "source": [
    "1 + 1"
   ]
  },
  {
   "cell_type": "code",
   "execution_count": 1,
   "metadata": {},
   "outputs": [],
   "source": [
    "!python -m venv venv #создание виртуального окружения, отдельная коробочка с питоном(отдельный питон со своими зависимостями)\n",
    "# изолированная среда с зависимостями и библиотеками для проектов, позволяет иметь разные версии пайтона и зависимости для каждого проекта способствует изоляции.\n"
   ]
  },
  {
   "cell_type": "code",
   "execution_count": null,
   "metadata": {},
   "outputs": [],
   "source": [
    "venv\\s+tab\\a+tab"
   ]
  },
  {
   "cell_type": "code",
   "execution_count": 1,
   "metadata": {},
   "outputs": [
    {
     "name": "stdout",
     "output_type": "stream",
     "text": [
      "asttokens==2.2.1\n",
      "backcall==0.2.0\n",
      "colorama==0.4.6\n",
      "comm==0.1.3\n",
      "debugpy==1.6.7\n",
      "decorator==5.1.1\n",
      "executing==1.2.0\n",
      "ipykernel==6.24.0\n",
      "ipython==8.14.0\n",
      "jedi==0.18.2\n",
      "jupyter_client==8.3.0\n",
      "jupyter_core==5.3.1\n",
      "matplotlib-inline==0.1.6\n",
      "nest-asyncio==1.5.6\n",
      "packaging==23.1\n",
      "parso==0.8.3\n",
      "pickleshare==0.7.5\n",
      "platformdirs==3.9.1\n",
      "prompt-toolkit==3.0.39\n",
      "psutil==5.9.5\n",
      "pure-eval==0.2.2\n",
      "Pygments==2.15.1\n",
      "python-dateutil==2.8.2\n",
      "pywin32==306\n",
      "pyzmq==25.1.0\n",
      "six==1.16.0\n",
      "stack-data==0.6.2\n",
      "tornado==6.3.2\n",
      "traitlets==5.9.0\n",
      "wcwidth==0.2.6\n"
     ]
    }
   ],
   "source": [
    "!pip freeze\n"
   ]
  },
  {
   "cell_type": "code",
   "execution_count": 2,
   "metadata": {},
   "outputs": [],
   "source": [
    "!pip freeze > requirements.txt # файл зависимостей, обязательно при передаче проекта"
   ]
  },
  {
   "cell_type": "code",
   "execution_count": 3,
   "metadata": {},
   "outputs": [
    {
     "name": "stdout",
     "output_type": "stream",
     "text": [
      "Requirement already satisfied: asttokens==2.2.1 in c:\\users\\new\\documents\\github\\python-vadim\\venv\\lib\\site-packages (from -r requirements.txt (line 1)) (2.2.1)\n",
      "Requirement already satisfied: backcall==0.2.0 in c:\\users\\new\\documents\\github\\python-vadim\\venv\\lib\\site-packages (from -r requirements.txt (line 2)) (0.2.0)\n",
      "Requirement already satisfied: colorama==0.4.6 in c:\\users\\new\\documents\\github\\python-vadim\\venv\\lib\\site-packages (from -r requirements.txt (line 3)) (0.4.6)\n",
      "Requirement already satisfied: comm==0.1.3 in c:\\users\\new\\documents\\github\\python-vadim\\venv\\lib\\site-packages (from -r requirements.txt (line 4)) (0.1.3)\n",
      "Requirement already satisfied: debugpy==1.6.7 in c:\\users\\new\\documents\\github\\python-vadim\\venv\\lib\\site-packages (from -r requirements.txt (line 5)) (1.6.7)\n",
      "Requirement already satisfied: decorator==5.1.1 in c:\\users\\new\\documents\\github\\python-vadim\\venv\\lib\\site-packages (from -r requirements.txt (line 6)) (5.1.1)\n",
      "Requirement already satisfied: executing==1.2.0 in c:\\users\\new\\documents\\github\\python-vadim\\venv\\lib\\site-packages (from -r requirements.txt (line 7)) (1.2.0)\n",
      "Requirement already satisfied: ipykernel==6.24.0 in c:\\users\\new\\documents\\github\\python-vadim\\venv\\lib\\site-packages (from -r requirements.txt (line 8)) (6.24.0)\n",
      "Requirement already satisfied: ipython==8.14.0 in c:\\users\\new\\documents\\github\\python-vadim\\venv\\lib\\site-packages (from -r requirements.txt (line 9)) (8.14.0)\n",
      "Requirement already satisfied: jedi==0.18.2 in c:\\users\\new\\documents\\github\\python-vadim\\venv\\lib\\site-packages (from -r requirements.txt (line 10)) (0.18.2)\n",
      "Requirement already satisfied: jupyter_client==8.3.0 in c:\\users\\new\\documents\\github\\python-vadim\\venv\\lib\\site-packages (from -r requirements.txt (line 11)) (8.3.0)\n",
      "Requirement already satisfied: jupyter_core==5.3.1 in c:\\users\\new\\documents\\github\\python-vadim\\venv\\lib\\site-packages (from -r requirements.txt (line 12)) (5.3.1)\n",
      "Requirement already satisfied: matplotlib-inline==0.1.6 in c:\\users\\new\\documents\\github\\python-vadim\\venv\\lib\\site-packages (from -r requirements.txt (line 13)) (0.1.6)\n",
      "Requirement already satisfied: nest-asyncio==1.5.6 in c:\\users\\new\\documents\\github\\python-vadim\\venv\\lib\\site-packages (from -r requirements.txt (line 14)) (1.5.6)\n",
      "Requirement already satisfied: packaging==23.1 in c:\\users\\new\\documents\\github\\python-vadim\\venv\\lib\\site-packages (from -r requirements.txt (line 15)) (23.1)\n",
      "Requirement already satisfied: parso==0.8.3 in c:\\users\\new\\documents\\github\\python-vadim\\venv\\lib\\site-packages (from -r requirements.txt (line 16)) (0.8.3)\n",
      "Requirement already satisfied: pickleshare==0.7.5 in c:\\users\\new\\documents\\github\\python-vadim\\venv\\lib\\site-packages (from -r requirements.txt (line 17)) (0.7.5)\n",
      "Requirement already satisfied: platformdirs==3.9.1 in c:\\users\\new\\documents\\github\\python-vadim\\venv\\lib\\site-packages (from -r requirements.txt (line 18)) (3.9.1)\n",
      "Requirement already satisfied: prompt-toolkit==3.0.39 in c:\\users\\new\\documents\\github\\python-vadim\\venv\\lib\\site-packages (from -r requirements.txt (line 19)) (3.0.39)\n",
      "Requirement already satisfied: psutil==5.9.5 in c:\\users\\new\\documents\\github\\python-vadim\\venv\\lib\\site-packages (from -r requirements.txt (line 20)) (5.9.5)\n",
      "Requirement already satisfied: pure-eval==0.2.2 in c:\\users\\new\\documents\\github\\python-vadim\\venv\\lib\\site-packages (from -r requirements.txt (line 21)) (0.2.2)\n",
      "Requirement already satisfied: Pygments==2.15.1 in c:\\users\\new\\documents\\github\\python-vadim\\venv\\lib\\site-packages (from -r requirements.txt (line 22)) (2.15.1)\n",
      "Requirement already satisfied: python-dateutil==2.8.2 in c:\\users\\new\\documents\\github\\python-vadim\\venv\\lib\\site-packages (from -r requirements.txt (line 23)) (2.8.2)\n",
      "Requirement already satisfied: pywin32==306 in c:\\users\\new\\documents\\github\\python-vadim\\venv\\lib\\site-packages (from -r requirements.txt (line 24)) (306)\n",
      "Requirement already satisfied: pyzmq==25.1.0 in c:\\users\\new\\documents\\github\\python-vadim\\venv\\lib\\site-packages (from -r requirements.txt (line 25)) (25.1.0)\n",
      "Requirement already satisfied: six==1.16.0 in c:\\users\\new\\documents\\github\\python-vadim\\venv\\lib\\site-packages (from -r requirements.txt (line 26)) (1.16.0)\n",
      "Requirement already satisfied: stack-data==0.6.2 in c:\\users\\new\\documents\\github\\python-vadim\\venv\\lib\\site-packages (from -r requirements.txt (line 27)) (0.6.2)\n",
      "Requirement already satisfied: tornado==6.3.2 in c:\\users\\new\\documents\\github\\python-vadim\\venv\\lib\\site-packages (from -r requirements.txt (line 28)) (6.3.2)\n",
      "Requirement already satisfied: traitlets==5.9.0 in c:\\users\\new\\documents\\github\\python-vadim\\venv\\lib\\site-packages (from -r requirements.txt (line 29)) (5.9.0)\n",
      "Requirement already satisfied: wcwidth==0.2.6 in c:\\users\\new\\documents\\github\\python-vadim\\venv\\lib\\site-packages (from -r requirements.txt (line 30)) (0.2.6)\n"
     ]
    },
    {
     "name": "stderr",
     "output_type": "stream",
     "text": [
      "\n",
      "[notice] A new release of pip is available: 23.1.2 -> 23.2\n",
      "[notice] To update, run: python.exe -m pip install --upgrade pip\n"
     ]
    }
   ],
   "source": [
    "!pip install -r requirements.txt # установка зависимостей"
   ]
  },
  {
   "cell_type": "code",
   "execution_count": 8,
   "metadata": {},
   "outputs": [
    {
     "name": "stdout",
     "output_type": "stream",
     "text": [
      "test\n",
      "test1\n",
      "test2\n"
     ]
    }
   ],
   "source": [
    "print('test')\n",
    "print('test1')\n",
    "print('test2')"
   ]
  }
 ],
 "metadata": {
  "kernelspec": {
   "display_name": "Python 3",
   "language": "python",
   "name": "python3"
  },
  "language_info": {
   "codemirror_mode": {
    "name": "ipython",
    "version": 3
   },
   "file_extension": ".py",
   "mimetype": "text/x-python",
   "name": "python",
   "nbconvert_exporter": "python",
   "pygments_lexer": "ipython3",
   "version": "3.11.4"
  },
  "orig_nbformat": 4
 },
 "nbformat": 4,
 "nbformat_minor": 2
}
